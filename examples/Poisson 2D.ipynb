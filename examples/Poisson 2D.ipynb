{
 "cells": [
  {
   "cell_type": "markdown",
   "metadata": {},
   "source": [
    "# Poisson equation 2D\n",
    "## Rectangle Elements\n",
    "\\begin{equation}\n",
    "    \\begin{cases}\n",
    "\t-\\nabla^2 u = f(x) &\\text{ in } \\Omega = [0,1]\\times[0,1] \\\\\n",
    "\t u(x) = 0 & \\text{ on } \\partial\\Omega\n",
    "\t\\end{cases}\n",
    "\\end{equation}"
   ]
  },
  {
   "cell_type": "code",
   "execution_count": 1,
   "metadata": {
    "collapsed": false
   },
   "outputs": [],
   "source": [
    "from mozart.mesh.rectangle import rectangle\n",
    "x0, xf = (0.0, 1.0)\n",
    "y0, yf = (0.0, 1.0)\n",
    "Mx, My = (5, 5)\n",
    "degree = 1\n",
    "\n",
    "c4n, n4e, ind4e, n4Db = rectangle(x0, xf, y0, yf, Mx, My, degree)"
   ]
  },
  {
   "cell_type": "code",
   "execution_count": 2,
   "metadata": {
    "collapsed": false,
    "scrolled": false
   },
   "outputs": [
    {
     "data": {
      "text/plain": [
       "array([[ 0. ,  0. ],\n",
       "       [ 0.2,  0. ],\n",
       "       [ 0.4,  0. ],\n",
       "       [ 0.6,  0. ],\n",
       "       [ 0.8,  0. ],\n",
       "       [ 1. ,  0. ],\n",
       "       [ 0. ,  0.2],\n",
       "       [ 0.2,  0.2],\n",
       "       [ 0.4,  0.2],\n",
       "       [ 0.6,  0.2],\n",
       "       [ 0.8,  0.2],\n",
       "       [ 1. ,  0.2],\n",
       "       [ 0. ,  0.4],\n",
       "       [ 0.2,  0.4],\n",
       "       [ 0.4,  0.4],\n",
       "       [ 0.6,  0.4],\n",
       "       [ 0.8,  0.4],\n",
       "       [ 1. ,  0.4],\n",
       "       [ 0. ,  0.6],\n",
       "       [ 0.2,  0.6],\n",
       "       [ 0.4,  0.6],\n",
       "       [ 0.6,  0.6],\n",
       "       [ 0.8,  0.6],\n",
       "       [ 1. ,  0.6],\n",
       "       [ 0. ,  0.8],\n",
       "       [ 0.2,  0.8],\n",
       "       [ 0.4,  0.8],\n",
       "       [ 0.6,  0.8],\n",
       "       [ 0.8,  0.8],\n",
       "       [ 1. ,  0.8],\n",
       "       [ 0. ,  1. ],\n",
       "       [ 0.2,  1. ],\n",
       "       [ 0.4,  1. ],\n",
       "       [ 0.6,  1. ],\n",
       "       [ 0.8,  1. ],\n",
       "       [ 1. ,  1. ]])"
      ]
     },
     "execution_count": 2,
     "metadata": {},
     "output_type": "execute_result"
    }
   ],
   "source": [
    "c4n"
   ]
  },
  {
   "cell_type": "code",
   "execution_count": 3,
   "metadata": {
    "collapsed": false
   },
   "outputs": [],
   "source": [
    "import numpy as np\n",
    "f = lambda x,y : x + y\n",
    "u_D = lambda x,y : np.zeros_like(x) "
   ]
  },
  {
   "cell_type": "code",
   "execution_count": 4,
   "metadata": {
    "collapsed": false
   },
   "outputs": [
    {
     "ename": "NameError",
     "evalue": "name 'Poison_2D_Rectangle' is not defined",
     "output_type": "error",
     "traceback": [
      "\u001b[0;31m---------------------------------------------------------------------------\u001b[0m",
      "\u001b[0;31mNameError\u001b[0m                                 Traceback (most recent call last)",
      "\u001b[0;32m<ipython-input-4-4ba78b785b63>\u001b[0m in \u001b[0;36m<module>\u001b[0;34m()\u001b[0m\n\u001b[1;32m      1\u001b[0m \u001b[1;32mfrom\u001b[0m \u001b[0mmozart\u001b[0m\u001b[1;33m.\u001b[0m\u001b[0mpoisson\u001b[0m\u001b[1;33m.\u001b[0m\u001b[0mfem\u001b[0m\u001b[1;33m.\u001b[0m\u001b[0mrectangle\u001b[0m \u001b[1;32mimport\u001b[0m \u001b[0msolve\u001b[0m\u001b[1;33m\u001b[0m\u001b[0m\n\u001b[0;32m----> 2\u001b[0;31m \u001b[0mu\u001b[0m \u001b[1;33m=\u001b[0m \u001b[0msolve\u001b[0m\u001b[1;33m(\u001b[0m\u001b[0mc4n\u001b[0m\u001b[1;33m,\u001b[0m \u001b[0mn4e\u001b[0m\u001b[1;33m,\u001b[0m \u001b[0mind4e\u001b[0m\u001b[1;33m,\u001b[0m \u001b[0mn4Db\u001b[0m\u001b[1;33m,\u001b[0m \u001b[0mf\u001b[0m\u001b[1;33m,\u001b[0m \u001b[0mu_D\u001b[0m\u001b[1;33m,\u001b[0m \u001b[0mdegree\u001b[0m\u001b[1;33m)\u001b[0m\u001b[1;33m\u001b[0m\u001b[0m\n\u001b[0m",
      "\u001b[0;32mC:\\WinPython-64bit-3.5.2.3Qt5\\python-3.5.2.amd64\\lib\\site-packages\\mozart-0.0-py3.5.egg\\mozart\\poisson\\fem\\rectangle.py\u001b[0m in \u001b[0;36msolve\u001b[0;34m(c4n, n4e, ind4e, n4Db, f, u_D, degree)\u001b[0m\n\u001b[1;32m     75\u001b[0m                                                  \u001b[0mc_void_p\u001b[0m\u001b[1;33m,\u001b[0m \u001b[0mc_void_p\u001b[0m\u001b[1;33m,\u001b[0m \u001b[0mc_void_p\u001b[0m\u001b[1;33m,\u001b[0m \u001b[0mc_int\u001b[0m\u001b[1;33m,\u001b[0m\u001b[1;33m\u001b[0m\u001b[0m\n\u001b[1;32m     76\u001b[0m \t                    \t\t\t c_void_p, c_void_p, c_void_p, c_void_p, c_void_p,)\n\u001b[0;32m---> 77\u001b[0;31m         \u001b[0mPoison_2D_Rectangle\u001b[0m\u001b[1;33m.\u001b[0m\u001b[0mrestype\u001b[0m \u001b[1;33m=\u001b[0m \u001b[1;32mNone\u001b[0m\u001b[1;33m\u001b[0m\u001b[0m\n\u001b[0m\u001b[1;32m     78\u001b[0m \tPoison_2D_Rectangle(c_void_p(n4e.ctypes.data), \n\u001b[1;32m     79\u001b[0m                                                 \u001b[0mc_void_p\u001b[0m\u001b[1;33m(\u001b[0m\u001b[0mind4e\u001b[0m\u001b[1;33m.\u001b[0m\u001b[0mctypes\u001b[0m\u001b[1;33m.\u001b[0m\u001b[0mdata\u001b[0m\u001b[1;33m)\u001b[0m\u001b[1;33m,\u001b[0m\u001b[1;33m\u001b[0m\u001b[0m\n",
      "\u001b[0;31mNameError\u001b[0m: name 'Poison_2D_Rectangle' is not defined"
     ]
    }
   ],
   "source": [
    "from mozart.poisson.fem.rectangle import solve\n",
    "u = solve(c4n, n4e, ind4e, n4Db, f, u_D, degree)"
   ]
  },
  {
   "cell_type": "code",
   "execution_count": null,
   "metadata": {
    "collapsed": true
   },
   "outputs": [],
   "source": []
  }
 ],
 "metadata": {
  "kernelspec": {
   "display_name": "Python 3",
   "language": "python",
   "name": "python3"
  },
  "language_info": {
   "codemirror_mode": {
    "name": "ipython",
    "version": 3
   },
   "file_extension": ".py",
   "mimetype": "text/x-python",
   "name": "python",
   "nbconvert_exporter": "python",
   "pygments_lexer": "ipython3",
   "version": "3.5.2"
  }
 },
 "nbformat": 4,
 "nbformat_minor": 1
}
